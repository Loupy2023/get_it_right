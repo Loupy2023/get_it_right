{
 "cells": [
  {
   "cell_type": "markdown",
   "id": "816f0a9c",
   "metadata": {},
   "source": [
    "# libraries importation"
   ]
  },
  {
   "cell_type": "code",
   "execution_count": 26,
   "id": "9b081825",
   "metadata": {},
   "outputs": [],
   "source": [
    "import matplotlib.pyplot as plt\n",
    "import numpy as np\n",
    "from PIL import Image\n",
    "import pathlib\n",
    "from tensorflow.keras.utils import image_dataset_from_directory\n",
    "import tensorflow as tf\n",
    "from tensorflow.keras.layers import Conv2D, MaxPooling2D, Flatten, Dense\n",
    "from tensorflow.keras.models import Sequential\n",
    "from tensorflow.keras.applications import resnet50"
   ]
  },
  {
   "cell_type": "markdown",
   "id": "5abea82c",
   "metadata": {},
   "source": [
    "## data importation"
   ]
  },
  {
   "cell_type": "code",
   "execution_count": 28,
   "id": "ba561bfe",
   "metadata": {},
   "outputs": [],
   "source": [
    "waste_nc = pathlib.Path('/home/fa-mtl/code/Loupy2023/get_it_right/raw_data/waste_nc/TRAIN.1') \n",
    "garb_bio = list(waste_nc.glob('B/*'))\n",
    "garb_nbio = list(waste_nc.glob('N/*'))\n",
    "\n",
    "img = Image.open(str(garb_bio[15]))\n",
    "img_height, img_width =  img.size"
   ]
  },
  {
   "cell_type": "code",
   "execution_count": 29,
   "id": "057a080c",
   "metadata": {},
   "outputs": [
    {
     "name": "stdout",
     "output_type": "stream",
     "text": [
      "Found 59922 files belonging to 2 classes.\n",
      "['B', 'N']\n"
     ]
    }
   ],
   "source": [
    "data = image_dataset_from_directory(waste_nc)\n",
    "class_names = data.class_names\n",
    "print(class_names)"
   ]
  },
  {
   "cell_type": "code",
   "execution_count": 30,
   "id": "291a7436",
   "metadata": {},
   "outputs": [
    {
     "data": {
      "text/plain": [
       "(200, 200)"
      ]
     },
     "execution_count": 30,
     "metadata": {},
     "output_type": "execute_result"
    }
   ],
   "source": [
    "img_width\n",
    "img.size"
   ]
  },
  {
   "cell_type": "markdown",
   "id": "f755657b",
   "metadata": {},
   "source": [
    "# Data split"
   ]
  },
  {
   "cell_type": "code",
   "execution_count": 31,
   "id": "0420cb8a",
   "metadata": {},
   "outputs": [],
   "source": [
    "batch_size = 16\n",
    "img_height = 200\n",
    "img_width = 200"
   ]
  },
  {
   "cell_type": "code",
   "execution_count": 48,
   "id": "147454e0",
   "metadata": {},
   "outputs": [],
   "source": [
    "dataset_url = waste_nc"
   ]
  },
  {
   "cell_type": "code",
   "execution_count": 49,
   "id": "72b89d1b",
   "metadata": {},
   "outputs": [
    {
     "name": "stdout",
     "output_type": "stream",
     "text": [
      "Found 59922 files belonging to 2 classes.\n",
      "Using 47938 files for training.\n"
     ]
    }
   ],
   "source": [
    "train_ds = tf.keras.utils.image_dataset_from_directory(\n",
    "  dataset_url,\n",
    "  validation_split=0.2,\n",
    "  subset=\"training\",\n",
    "  seed=123,\n",
    "  image_size=(img_height, img_width),\n",
    "  batch_size=batch_size)"
   ]
  },
  {
   "cell_type": "code",
   "execution_count": 50,
   "id": "32f83fb9",
   "metadata": {},
   "outputs": [
    {
     "name": "stdout",
     "output_type": "stream",
     "text": [
      "Found 59922 files belonging to 2 classes.\n",
      "Using 11984 files for validation.\n"
     ]
    }
   ],
   "source": [
    "test_ds = tf.keras.utils.image_dataset_from_directory(\n",
    "  dataset_url,\n",
    "  validation_split=0.2,\n",
    "  subset=\"validation\",\n",
    "  seed=123,\n",
    "  image_size=(img_height, img_width),\n",
    "  batch_size=batch_size )"
   ]
  },
  {
   "cell_type": "markdown",
   "id": "6d5e9171",
   "metadata": {},
   "source": [
    "# Model\n"
   ]
  },
  {
   "cell_type": "code",
   "execution_count": 51,
   "id": "d6feed28",
   "metadata": {},
   "outputs": [],
   "source": [
    "# define the pre-processing layers\n",
    "shape=(img_height, img_width, 3)\n",
    "\n",
    "# Define the model architecture\n",
    "def initialize_model():\n",
    "    model = Sequential([\n",
    "      layers.Rescaling(1./255, input_shape=(img_height, img_width, 3)),\n",
    "      layers.Conv2D(16, 3, padding='same', activation='relu'),\n",
    "      layers.MaxPooling2D(),\n",
    "      layers.Conv2D(32, 3, padding='same', activation='relu'),\n",
    "      layers.MaxPooling2D(),\n",
    "      layers.Flatten(),\n",
    "      layers.Dense(32, activation='relu'),\n",
    "      layers.Dense(2)\n",
    "    ])\n",
    "    model.compile(optimizer='adam',\n",
    "              loss=tf.keras.losses.SparseCategoricalCrossentropy(from_logits=True),\n",
    "              metrics=['accuracy'])\n",
    "    return model"
   ]
  },
  {
   "cell_type": "code",
   "execution_count": 52,
   "id": "0c90a8cd",
   "metadata": {},
   "outputs": [],
   "source": [
    "model = initialize_model()"
   ]
  },
  {
   "cell_type": "code",
   "execution_count": 53,
   "id": "4813a6fc",
   "metadata": {},
   "outputs": [
    {
     "name": "stdout",
     "output_type": "stream",
     "text": [
      "Model: \"sequential_2\"\n",
      "_________________________________________________________________\n",
      " Layer (type)                Output Shape              Param #   \n",
      "=================================================================\n",
      " rescaling_2 (Rescaling)     (None, 200, 200, 3)       0         \n",
      "                                                                 \n",
      " conv2d_4 (Conv2D)           (None, 200, 200, 16)      448       \n",
      "                                                                 \n",
      " max_pooling2d_4 (MaxPooling  (None, 100, 100, 16)     0         \n",
      " 2D)                                                             \n",
      "                                                                 \n",
      " conv2d_5 (Conv2D)           (None, 100, 100, 32)      4640      \n",
      "                                                                 \n",
      " max_pooling2d_5 (MaxPooling  (None, 50, 50, 32)       0         \n",
      " 2D)                                                             \n",
      "                                                                 \n",
      " flatten_2 (Flatten)         (None, 80000)             0         \n",
      "                                                                 \n",
      " dense_4 (Dense)             (None, 32)                2560032   \n",
      "                                                                 \n",
      " dense_5 (Dense)             (None, 2)                 66        \n",
      "                                                                 \n",
      "=================================================================\n",
      "Total params: 2,565,186\n",
      "Trainable params: 2,565,186\n",
      "Non-trainable params: 0\n",
      "_________________________________________________________________\n"
     ]
    }
   ],
   "source": [
    "model.summary()"
   ]
  },
  {
   "cell_type": "code",
   "execution_count": 54,
   "id": "ad5ef222",
   "metadata": {},
   "outputs": [
    {
     "name": "stdout",
     "output_type": "stream",
     "text": [
      " 228/2997 [=>............................] - ETA: 35:58 - loss: 0.4458 - accuracy: 0.8268"
     ]
    }
   ],
   "source": [
    "#Train the model\n",
    "epochs=10\n",
    "history = model.fit(\n",
    "  train_ds,\n",
    "  validation_data=test_ds,\n",
    "  epochs=1\n",
    ")"
   ]
  },
  {
   "cell_type": "code",
   "execution_count": null,
   "id": "575cca5d",
   "metadata": {},
   "outputs": [],
   "source": []
  }
 ],
 "metadata": {
  "kernelspec": {
   "display_name": "Python 3 (ipykernel)",
   "language": "python",
   "name": "python3"
  },
  "language_info": {
   "codemirror_mode": {
    "name": "ipython",
    "version": 3
   },
   "file_extension": ".py",
   "mimetype": "text/x-python",
   "name": "python",
   "nbconvert_exporter": "python",
   "pygments_lexer": "ipython3",
   "version": "3.10.6"
  },
  "toc": {
   "base_numbering": 1,
   "nav_menu": {},
   "number_sections": true,
   "sideBar": true,
   "skip_h1_title": false,
   "title_cell": "Table of Contents",
   "title_sidebar": "Contents",
   "toc_cell": false,
   "toc_position": {},
   "toc_section_display": true,
   "toc_window_display": false
  }
 },
 "nbformat": 4,
 "nbformat_minor": 5
}
