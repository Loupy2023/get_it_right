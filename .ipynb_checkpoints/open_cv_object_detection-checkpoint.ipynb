{
 "cells": [
  {
   "cell_type": "code",
   "execution_count": null,
   "id": "2e5e8269",
   "metadata": {},
   "outputs": [],
   "source": [
    "import cv2\n",
    "import numpy as np\n",
    "import matplotlib.pyplot as plt\n",
    "%matplotlib inline"
   ]
  },
  {
   "cell_type": "code",
   "execution_count": null,
   "id": "9f99597d",
   "metadata": {},
   "outputs": [],
   "source": [
    "\n",
    "# Load the pre-trained Faster R-CNN model\n",
    "net = cv2.dnn.readNetFromTensorflow('faster_rcnn.pb')\n",
    "# Load the input image\n",
    "image = cv2.imread('image.jpg')\n",
    "# Create a blob from the input image\n",
    "blob = cv2.dnn.blobFromImage(image, scalefactor=1.0, size=(300, 300), mean=(0, 0, 0), swapRB=True, crop=False)\n",
    "# Set the input for the network\n",
    "net.setInput(blob)\n",
    "# Run the forward pass to get the output of the network\n",
    "detections = net.forward()\n",
    "# Loop over the detections\n",
    "for i in range(detections.shape[2]):\n",
    "    confidence = detections[0, 0, i, 2]\n",
    "    if confidence > 0.5:\n",
    "        # Get the coordinates of the bounding box\n",
    "        box = detections[0, 0, i, 3:7] * np.array([image.shape[1], image.shape[0], image.shape[1], image.shape[0]])\n",
    "        (startX, startY, endX, endY) = box.astype(\"int\")\n",
    "        # Draw the bounding box and label on the image\n",
    "        cv2.rectangle(image, (startX, startY), (endX, endY), (0, 255, 0), 2)\n",
    "        label = '{0:.2f}%'.format(confidence * 100)\n",
    "        cv2.putText(image, label, (startX, startY - 10), cv2.FONT_HERSHEY_SIMPLEX, 0.5, (0, 255, 0), 2)\n",
    "# Show the output image\n",
    "cv2.imshow(\"Output\", image)\n",
    "cv2.waitKey(0)"
   ]
  },
  {
   "cell_type": "code",
   "execution_count": null,
   "id": "7c0dd798",
   "metadata": {},
   "outputs": [],
   "source": []
  }
 ],
 "metadata": {
  "kernelspec": {
   "display_name": "Python 3 (ipykernel)",
   "language": "python",
   "name": "python3"
  },
  "language_info": {
   "codemirror_mode": {
    "name": "ipython",
    "version": 3
   },
   "file_extension": ".py",
   "mimetype": "text/x-python",
   "name": "python",
   "nbconvert_exporter": "python",
   "pygments_lexer": "ipython3",
   "version": "3.10.6"
  },
  "toc": {
   "base_numbering": 1,
   "nav_menu": {},
   "number_sections": true,
   "sideBar": true,
   "skip_h1_title": false,
   "title_cell": "Table of Contents",
   "title_sidebar": "Contents",
   "toc_cell": false,
   "toc_position": {},
   "toc_section_display": true,
   "toc_window_display": false
  }
 },
 "nbformat": 4,
 "nbformat_minor": 5
}
