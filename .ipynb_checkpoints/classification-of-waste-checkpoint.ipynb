{
 "cells": [
  {
   "cell_type": "markdown",
   "metadata": {},
   "source": [
    "## **Importing Required Packages**"
   ]
  },
  {
   "cell_type": "code",
   "execution_count": 1,
   "metadata": {
    "execution": {
     "iopub.execute_input": "2022-11-04T19:32:21.274649Z",
     "iopub.status.busy": "2022-11-04T19:32:21.274059Z",
     "iopub.status.idle": "2022-11-04T19:32:28.131150Z",
     "shell.execute_reply": "2022-11-04T19:32:28.129938Z",
     "shell.execute_reply.started": "2022-11-04T19:32:21.274528Z"
    }
   },
   "outputs": [
    {
     "name": "stderr",
     "output_type": "stream",
     "text": [
      "2023-03-10 16:23:23.992165: I tensorflow/core/platform/cpu_feature_guard.cc:193] This TensorFlow binary is optimized with oneAPI Deep Neural Network Library (oneDNN) to use the following CPU instructions in performance-critical operations:  AVX2 FMA\n",
      "To enable them in other operations, rebuild TensorFlow with the appropriate compiler flags.\n",
      "2023-03-10 16:23:25.170971: W tensorflow/compiler/xla/stream_executor/platform/default/dso_loader.cc:64] Could not load dynamic library 'libcudart.so.11.0'; dlerror: libcudart.so.11.0: cannot open shared object file: No such file or directory\n",
      "2023-03-10 16:23:25.171027: I tensorflow/compiler/xla/stream_executor/cuda/cudart_stub.cc:29] Ignore above cudart dlerror if you do not have a GPU set up on your machine.\n",
      "2023-03-10 16:23:28.123259: W tensorflow/compiler/xla/stream_executor/platform/default/dso_loader.cc:64] Could not load dynamic library 'libnvinfer.so.7'; dlerror: libnvinfer.so.7: cannot open shared object file: No such file or directory\n",
      "2023-03-10 16:23:28.123431: W tensorflow/compiler/xla/stream_executor/platform/default/dso_loader.cc:64] Could not load dynamic library 'libnvinfer_plugin.so.7'; dlerror: libnvinfer_plugin.so.7: cannot open shared object file: No such file or directory\n",
      "2023-03-10 16:23:28.123440: W tensorflow/compiler/tf2tensorrt/utils/py_utils.cc:38] TF-TRT Warning: Cannot dlopen some TensorRT libraries. If you would like to use Nvidia GPU with TensorRT, please make sure the missing libraries mentioned above are installed properly.\n"
     ]
    }
   ],
   "source": [
    "import numpy as np\n",
    "import pandas as pd\n",
    "import matplotlib.pyplot as plt\n",
    "import seaborn as sns\n",
    " \n",
    "from sklearn.utils import shuffle\n",
    "from sklearn.metrics import confusion_matrix,classification_report\n",
    "from sklearn import preprocessing\n",
    "from sklearn.model_selection import train_test_split\n",
    "\n",
    "import tensorflow as tf\n",
    "from tensorflow import keras\n",
    "\n",
    "from keras.layers import Dropout, Dense, Flatten, BatchNormalization, LeakyReLU, GlobalAveragePooling2D, Conv2D, MaxPool2D\n",
    "from keras.models import Sequential\n",
    "from keras.callbacks import EarlyStopping\n",
    "from keras.applications.inception_v3 import InceptionV3\n",
    "from keras.applications.vgg16 import VGG16\n",
    "from keras.applications.xception import Xception\n",
    "\n",
    "import cv2\n",
    "\n",
    "from tqdm import tqdm\n",
    "import os\n",
    "import gc\n",
    "\n",
    "os.environ['TF_CPP_MIN_LOG_LEVEL'] = '3'\n",
    "\n",
    "import warnings\n",
    "warnings.filterwarnings(\"ignore\")"
   ]
  },
  {
   "cell_type": "markdown",
   "metadata": {},
   "source": [
    "## **Loading Data**"
   ]
  },
  {
   "cell_type": "code",
   "execution_count": 2,
   "metadata": {
    "execution": {
     "iopub.execute_input": "2022-11-04T19:32:28.134075Z",
     "iopub.status.busy": "2022-11-04T19:32:28.133384Z",
     "iopub.status.idle": "2022-11-04T19:32:28.139386Z",
     "shell.execute_reply": "2022-11-04T19:32:28.138392Z",
     "shell.execute_reply.started": "2022-11-04T19:32:28.134032Z"
    }
   },
   "outputs": [],
   "source": [
    "test_directory = \"/home/fa-mtl/code/Loupy2023/get_it_right/raw_data/waste_nc/TEST\"\n",
    "train_directory = \"/home/fa-mtl/code/Loupy2023/get_it_right/raw_data/waste_nc/TRAIN.1\"\n",
    "# validation_directory = \"../input/placenta-cell-data/PlacentaCell/validation\""
   ]
  },
  {
   "cell_type": "code",
   "execution_count": 3,
   "metadata": {},
   "outputs": [],
   "source": [
    "batch_size = 16\n",
    "img_height = 200\n",
    "img_width = 200\n",
    "img_size =(img_height,img_width)"
   ]
  },
  {
   "cell_type": "code",
   "execution_count": 4,
   "metadata": {
    "execution": {
     "iopub.execute_input": "2022-11-04T19:32:28.141683Z",
     "iopub.status.busy": "2022-11-04T19:32:28.141054Z",
     "iopub.status.idle": "2022-11-04T19:32:28.151940Z",
     "shell.execute_reply": "2022-11-04T19:32:28.151087Z",
     "shell.execute_reply.started": "2022-11-04T19:32:28.141644Z"
    }
   },
   "outputs": [],
   "source": [
    "#img_size = (60,60)"
   ]
  },
  {
   "cell_type": "code",
   "execution_count": 5,
   "metadata": {
    "execution": {
     "iopub.execute_input": "2022-11-04T19:32:28.155097Z",
     "iopub.status.busy": "2022-11-04T19:32:28.154525Z",
     "iopub.status.idle": "2022-11-04T19:32:28.162858Z",
     "shell.execute_reply": "2022-11-04T19:32:28.161939Z",
     "shell.execute_reply.started": "2022-11-04T19:32:28.155062Z"
    }
   },
   "outputs": [],
   "source": [
    "def load_data(directory,img_size):\n",
    "    images = []\n",
    "    labels = []\n",
    "    \n",
    "    for i in tqdm(os.listdir(directory)):\n",
    "        \n",
    "        if i == 'B': label = 0\n",
    "        elif i == 'N': label = 1\n",
    "            \n",
    "        for j in os.listdir(directory + '/' + i):\n",
    "            \n",
    "            image = cv2.imread(directory + '/' + i + '/' + j)\n",
    "            resized_img = cv2.resize(image,img_size)\n",
    "            \n",
    "            images.append(resized_img / 255.0)\n",
    "            labels.append(label)\n",
    "            \n",
    "    images = np.array(images, dtype = 'float32')\n",
    "    labels = np.array(labels, dtype = 'int32')\n",
    "    \n",
    "    return images, labels"
   ]
  },
  {
   "cell_type": "code",
   "execution_count": null,
   "metadata": {
    "execution": {
     "iopub.execute_input": "2022-11-04T19:32:28.164919Z",
     "iopub.status.busy": "2022-11-04T19:32:28.164328Z",
     "iopub.status.idle": "2022-11-04T19:41:08.687316Z",
     "shell.execute_reply": "2022-11-04T19:41:08.686282Z",
     "shell.execute_reply.started": "2022-11-04T19:32:28.164885Z"
    }
   },
   "outputs": [
    {
     "name": "stderr",
     "output_type": "stream",
     "text": [
      "\r",
      "  0%|                                                                                             | 0/2 [00:00<?, ?it/s]"
     ]
    }
   ],
   "source": [
    "test_images, test_labels = load_data(test_directory,img_size)\n",
    "train_images, train_labels = load_data(train_directory,img_size)\n",
    "# val_images, val_labels = load_data(validation_directory,img_size)"
   ]
  },
  {
   "cell_type": "code",
   "execution_count": null,
   "metadata": {
    "execution": {
     "iopub.execute_input": "2022-11-04T19:41:08.689143Z",
     "iopub.status.busy": "2022-11-04T19:41:08.688776Z",
     "iopub.status.idle": "2022-11-04T19:41:08.695407Z",
     "shell.execute_reply": "2022-11-04T19:41:08.694353Z",
     "shell.execute_reply.started": "2022-11-04T19:41:08.689100Z"
    }
   },
   "outputs": [],
   "source": [
    "print(f'Shape of Test Data : {np.shape(test_images)} & Shape of Test Labels : {np.shape(test_labels)}')\n",
    "print(f'Shape of Train Data : {np.shape(train_images)} & Shape of Train Label : {np.shape(train_labels)}')\n",
    "# print(f'Shape of Validation Data : {np.shape(val_images)} & Shape of Validation Label : {np.shape(val_labels)}')"
   ]
  },
  {
   "cell_type": "markdown",
   "metadata": {},
   "source": [
    "## **Data Visualization**"
   ]
  },
  {
   "cell_type": "markdown",
   "metadata": {},
   "source": [
    "### **Sample image from train data**"
   ]
  },
  {
   "cell_type": "code",
   "execution_count": null,
   "metadata": {
    "execution": {
     "iopub.execute_input": "2022-11-04T19:41:08.697790Z",
     "iopub.status.busy": "2022-11-04T19:41:08.696911Z",
     "iopub.status.idle": "2022-11-04T19:41:09.133544Z",
     "shell.execute_reply": "2022-11-04T19:41:09.132517Z",
     "shell.execute_reply.started": "2022-11-04T19:41:08.697753Z"
    }
   },
   "outputs": [],
   "source": [
    "class_names = ['B','N']\n",
    "fig, axes = plt.subplots(1,len(class_names))\n",
    "\n",
    "for i in range(len(class_names)):\n",
    "    dir_path = train_directory + '/' + class_names[i]\n",
    "    img_path = dir_path + '/' + os.listdir(dir_path)[2]\n",
    "    img = cv2.imread(img_path)\n",
    "    resized_img = cv2.resize(img,img_size)\n",
    "    axes[i].imshow(resized_img)\n",
    "    axes[i].set_title(class_names[i])\n",
    "    plt.tight_layout()\n",
    "\n",
    "plt.show()"
   ]
  },
  {
   "cell_type": "markdown",
   "metadata": {},
   "source": [
    "### **Class Distribution**"
   ]
  },
  {
   "cell_type": "code",
   "execution_count": null,
   "metadata": {
    "execution": {
     "iopub.execute_input": "2022-11-04T19:41:09.135397Z",
     "iopub.status.busy": "2022-11-04T19:41:09.135051Z",
     "iopub.status.idle": "2022-11-04T19:41:09.322278Z",
     "shell.execute_reply": "2022-11-04T19:41:09.321388Z",
     "shell.execute_reply.started": "2022-11-04T19:41:09.135363Z"
    }
   },
   "outputs": [],
   "source": [
    "sns.countplot(x = train_labels)\n",
    "plt.title(\"Class Distribution\")\n",
    "plt.xlabel(\"Class Names\")\n",
    "plt.ylabel(\"Count\")\n",
    "plt.show()"
   ]
  },
  {
   "cell_type": "markdown",
   "metadata": {},
   "source": [
    "## **VGG16**"
   ]
  },
  {
   "cell_type": "code",
   "execution_count": null,
   "metadata": {
    "execution": {
     "iopub.execute_input": "2022-11-04T19:41:09.324016Z",
     "iopub.status.busy": "2022-11-04T19:41:09.323718Z",
     "iopub.status.idle": "2022-11-04T19:54:50.747137Z",
     "shell.execute_reply": "2022-11-04T19:54:50.743143Z",
     "shell.execute_reply.started": "2022-11-04T19:41:09.323989Z"
    }
   },
   "outputs": [],
   "source": [
    "vgg16_model = Sequential()\n",
    "\n",
    "vgg16_base = VGG16(\n",
    "    include_top = False,\n",
    "    weights = \"imagenet\",\n",
    "    input_shape = (60,60,3),\n",
    "    pooling = 'max'\n",
    ")\n",
    "\n",
    "print(f\"Number of layers in Inception: {len(vgg16_base.layers)}\")\n",
    "\n",
    "for layer in vgg16_base.layers[:]:\n",
    "    layer.trainable = False\n",
    "    \n",
    "for layer in vgg16_base.layers[16:]:\n",
    "    layer.trainable = True\n",
    "    \n",
    "vgg16_model.add(vgg16_base)\n",
    "\n",
    "vgg16_model.add(Flatten())\n",
    "\n",
    "vgg16_model.add(Dense(units = 5, activation = 'softmax'))\n",
    "\n",
    "vgg16_model.summary()\n",
    "\n",
    "early_stopping = EarlyStopping( monitor = 'val_accuracy', mode = 'max', min_delta = 1,patience = 20,restore_best_weights = True,verbose = 0)\n",
    "\n",
    "vgg16_model.compile(optimizer = keras.optimizers.RMSprop(learning_rate = 0.001) , loss = 'sparse_categorical_crossentropy' , metrics = ['accuracy'])\n",
    "\n",
    "vgg16 = vgg16_model.fit(train_images, train_labels, batch_size = 32, epochs = 20, callbacks = [early_stopping])"
   ]
  },
  {
   "cell_type": "code",
   "execution_count": null,
   "metadata": {
    "execution": {
     "iopub.execute_input": "2022-11-04T19:54:50.757553Z",
     "iopub.status.busy": "2022-11-04T19:54:50.757220Z",
     "iopub.status.idle": "2022-11-04T19:55:02.078847Z",
     "shell.execute_reply": "2022-11-04T19:55:02.077796Z",
     "shell.execute_reply.started": "2022-11-04T19:54:50.757525Z"
    }
   },
   "outputs": [],
   "source": [
    "vgg16_predictions = vgg16_model.predict(test_images)\n",
    "vgg16_predictions = np.argmax(vgg16_predictions,axis = 1)"
   ]
  },
  {
   "cell_type": "code",
   "execution_count": null,
   "metadata": {
    "execution": {
     "iopub.execute_input": "2022-11-04T19:55:02.080249Z",
     "iopub.status.busy": "2022-11-04T19:55:02.079962Z",
     "iopub.status.idle": "2022-11-04T19:55:10.068015Z",
     "shell.execute_reply": "2022-11-04T19:55:10.067030Z",
     "shell.execute_reply.started": "2022-11-04T19:55:02.080222Z"
    }
   },
   "outputs": [],
   "source": [
    "vgg16_accuracy = vgg16_model.evaluate(test_images, test_labels, verbose = 0) \n",
    "print('Test accuracy:', vgg16_accuracy[1])"
   ]
  },
  {
   "cell_type": "markdown",
   "metadata": {},
   "source": [
    "## **Evaluation**"
   ]
  },
  {
   "cell_type": "code",
   "execution_count": null,
   "metadata": {
    "execution": {
     "iopub.execute_input": "2022-11-04T19:55:10.069672Z",
     "iopub.status.busy": "2022-11-04T19:55:10.069265Z",
     "iopub.status.idle": "2022-11-04T19:55:10.393323Z",
     "shell.execute_reply": "2022-11-04T19:55:10.392367Z",
     "shell.execute_reply.started": "2022-11-04T19:55:10.069634Z"
    }
   },
   "outputs": [],
   "source": [
    "cm = confusion_matrix(test_labels, vgg16_predictions)\n",
    "sns.heatmap(cm,cmap = 'Blues',annot = True, xticklabels = class_names, yticklabels = class_names)\n",
    "plt.show()"
   ]
  },
  {
   "cell_type": "markdown",
   "metadata": {},
   "source": [
    "## **Classification Report ( Precision , recall , F1 Score )**"
   ]
  },
  {
   "cell_type": "code",
   "execution_count": null,
   "metadata": {
    "execution": {
     "iopub.execute_input": "2022-11-04T19:55:10.395589Z",
     "iopub.status.busy": "2022-11-04T19:55:10.394613Z",
     "iopub.status.idle": "2022-11-04T19:55:10.403453Z",
     "shell.execute_reply": "2022-11-04T19:55:10.402816Z",
     "shell.execute_reply.started": "2022-11-04T19:55:10.395551Z"
    }
   },
   "outputs": [],
   "source": [
    "def scores(cm):\n",
    "    p = {}\n",
    "    r = {}\n",
    "    f1 = {}\n",
    "    \n",
    "    for i in range(len(cm)):\n",
    "        p[i] = cm[i,i] / sum(cm[:,i])\n",
    "        r[i] = cm[i,i] / sum(cm[i,:])\n",
    "        f1[i] = 2 * (cm[i,i] / sum(cm[:,i])) * (cm[i,i]/sum(cm[i,:])) / ((cm[i,i] / sum(cm[:,i])) + (cm[i,i]/sum(cm[i,:])))\n",
    "    \n",
    "    return p,r,f1    "
   ]
  },
  {
   "cell_type": "code",
   "execution_count": null,
   "metadata": {
    "execution": {
     "iopub.execute_input": "2022-11-04T19:55:10.405694Z",
     "iopub.status.busy": "2022-11-04T19:55:10.404667Z",
     "iopub.status.idle": "2022-11-04T19:55:10.414584Z",
     "shell.execute_reply": "2022-11-04T19:55:10.413458Z",
     "shell.execute_reply.started": "2022-11-04T19:55:10.405651Z"
    }
   },
   "outputs": [],
   "source": [
    "precision, recall, f1_score = scores(cm)"
   ]
  },
  {
   "cell_type": "code",
   "execution_count": null,
   "metadata": {
    "execution": {
     "iopub.execute_input": "2022-11-04T19:55:10.416356Z",
     "iopub.status.busy": "2022-11-04T19:55:10.415937Z",
     "iopub.status.idle": "2022-11-04T19:55:10.461937Z",
     "shell.execute_reply": "2022-11-04T19:55:10.460428Z",
     "shell.execute_reply.started": "2022-11-04T19:55:10.416320Z"
    }
   },
   "outputs": [],
   "source": [
    "Evaluation = {\n",
    "    'Precision' : precision,\n",
    "    'Recall' : recall,\n",
    "    'F1 Score' : f1_score\n",
    "}\n",
    "\n",
    "Result = pd.DataFrame(Evaluation)\n",
    "\n",
    "Result"
   ]
  }
 ],
 "metadata": {
  "kernelspec": {
   "display_name": "Python 3 (ipykernel)",
   "language": "python",
   "name": "python3"
  },
  "language_info": {
   "codemirror_mode": {
    "name": "ipython",
    "version": 3
   },
   "file_extension": ".py",
   "mimetype": "text/x-python",
   "name": "python",
   "nbconvert_exporter": "python",
   "pygments_lexer": "ipython3",
   "version": "3.10.6"
  },
  "toc": {
   "base_numbering": 1,
   "nav_menu": {},
   "number_sections": true,
   "sideBar": true,
   "skip_h1_title": false,
   "title_cell": "Table of Contents",
   "title_sidebar": "Contents",
   "toc_cell": false,
   "toc_position": {},
   "toc_section_display": true,
   "toc_window_display": false
  }
 },
 "nbformat": 4,
 "nbformat_minor": 4
}
